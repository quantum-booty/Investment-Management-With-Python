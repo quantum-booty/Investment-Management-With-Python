{
 "cells": [
  {
   "cell_type": "markdown",
   "metadata": {},
   "source": [
    "# Portfolio Optimization in Practice"
   ]
  },
  {
   "cell_type": "markdown",
   "metadata": {},
   "source": [
    "## Key Points\n",
    "\n",
    "If one could reliably predict future returns, one would not need or seek diversification; one would instead invest in the highest returning asset at each point in time. Crystal balls, however, hardly exist in the real world, and this is the reason why investors should instead hold well-diversified portfolios. Well-diversified portfolios are scientifically defined as portfolios that deliver the highest reward for a given risk budget. In the absence of parameter uncertainty, and if volatility is used as a risk measure, this leaves us with a simple prescription, namely maximize the Sharpe ratio.\n",
    "\n",
    "This definition, however, is not fully operational because of the presence of parameter uncertainty. In this context, one can turn to naive diversification, which focuses on the question of how to construct a well-balanced portfolio (mean goal) as a proxy for constructing a well-diversified portfolio (end goal). While naive diversification is often taken to imply an equally-weighted portfolio, the approach can be extended to imply an equal allocation in terms of contributions from underlying factors to the risk of the portfolio. In this module, we explore practical issues in the implementation well-diversified portfolios and we work through the mechanics of various portfolio optimization methodologies and discuss their pros and cons in applications to the construction of improved equity benchmarks.\n",
    "\n",
    "- ### Mean Goal: Well-Balanced Portfolio\n",
    "- ### End Goal: Wwell-Rewarded Portfolio"
   ]
  },
  {
   "cell_type": "markdown",
   "metadata": {},
   "source": [
    "## Effective Number of Constituents of a Portfolio\n",
    "A | B\n",
    "- | -\n",
    "<img src=\"images/effective number of 30 stocks.PNG\" width=\"500\"> | <img src=\"images/effective number of constituents.PNG\" width=\"500\">\n",
    "<img src=\"images/SPY ENC.PNG\" width=\"500\"> | <img src=\"images/ENC Summary.PNG\" width=\"700\">"
   ]
  },
  {
   "cell_type": "markdown",
   "metadata": {},
   "source": [
    "## Scientific Diversification: MSR\n",
    "\n",
    "The MSR portoflio requires access to reliable expected return estimates\n",
    "The GMV portfolio is an efficient portfolio that requires no expected return estimate\n",
    "\n",
    "Efficient Frontier | Global minimum variance\n",
    "- | -\n",
    "<img src=\"images/efficient frontier.PNG\" width=\"500\"> | <img src=\"images/GMV.PNG\" width=\"500\">\n",
    "\n",
    "Problems with GMV portfolios | Improving GMV\n",
    "- | -\n",
    "<img src=\"images/problems with GMV portfolios.PNG\" width=\"600\"> | <img src=\"images/improving GMV.PNG\" width=\"500\">\n",
    "\n",
    "## Summary\n",
    "<img src=\"images/GMV summary.PNG\" width=\"500\">\n"
   ]
  },
  {
   "cell_type": "markdown",
   "metadata": {},
   "source": [
    "## Measuring Risk Contributions\n",
    "\n",
    "A | B\n",
    "- | -\n",
    "<img src=\"images/ENC short coming 1.PNG\" width=\"500\"> | <img src=\"images/ENC short coming 2.PNG\" width=\"500\">\n",
    "<img src=\"images/ENC short coming 3.PNG\" width=\"500\"> | <img src=\"images/ENC short coming 4.PNG\" width=\"500\">\n",
    "<img src=\"images/ENC short coming 5.PNG\" width=\"500\"> | <img src=\"images/ENC short coming 6.PNG\" width=\"500\">\n",
    "<img src=\"images/ENC short coming 7.PNG\" width=\"500\">\n",
    "\n",
    "- The calculated value of risk contribution changes when we use correlations instead of assuming they are zero.\n",
    "- Therefore it is important to include correlation parameters in calculation to give more accurate answer."
   ]
  },
  {
   "cell_type": "markdown",
   "metadata": {},
   "source": [
    "# Risk Parity Portfolio"
   ]
  },
  {
   "cell_type": "markdown",
   "metadata": {},
   "source": [
    "## Simplified Risk Parity Portfolio"
   ]
  },
  {
   "cell_type": "code",
   "execution_count": 13,
   "metadata": {},
   "outputs": [
    {
     "name": "stdout",
     "output_type": "stream",
     "text": [
      "0.9632548620885165 0.10911708345018784\n"
     ]
    },
    {
     "data": {
      "text/plain": [
       "1.0640941498361778"
      ]
     },
     "execution_count": 13,
     "metadata": {},
     "output_type": "execute_result"
    }
   ],
   "source": [
    "v1 = 0.6**2 * 0.151**2\n",
    "v2 = 0.4**2 * 0.046**2\n",
    "v12 = 2 * 0.6*0.4 * 0.151*0.046*0.2\n",
    "v = v1 + v2 + v12\n",
    "w1 = (v1 + v12)/v\n",
    "w2 = (v2 + v12)/v\n",
    "\n",
    "print(w1, w2)\n",
    "\n",
    "1/(w1**2 + w2**2)"
   ]
  },
  {
   "cell_type": "code",
   "execution_count": 15,
   "metadata": {},
   "outputs": [
    {
     "name": "stdout",
     "output_type": "stream",
     "text": [
      "0.9270688893191643 0.07293111068083566\n"
     ]
    },
    {
     "data": {
      "text/plain": [
       "1.1563692548941664"
      ]
     },
     "execution_count": 15,
     "metadata": {},
     "output_type": "execute_result"
    }
   ],
   "source": [
    "v1 = 0.6**2 * 0.151**2\n",
    "v2 = 0.4**2 * 0.046**2\n",
    "v12 = 2 * 0.6*0.4 * 0.151*0.046*0.2\n",
    "v = v1 + v2 + v12\n",
    "w1 = (v1 + v12/2)/v\n",
    "w2 = (v2 + v12/2)/v\n",
    "\n",
    "print(w1, w2)\n",
    "\n",
    "1/(w1**2 + w2**2)"
   ]
  },
  {
   "cell_type": "markdown",
   "metadata": {},
   "source": [
    "- Risk Parity Portfolio is a portfolio with equal risk contribution from contributing assets.\n",
    "- It maximizes the ENC applied to the risk contributions, as opposed to the dollar contributions.\n",
    "- Therefore Risk Parity Portfolios are well-balanced interms of risk contributions.\n",
    "- This quantity is sometimes called effective number of correlated bets (ENCB).\n",
    "- Risk Partity Portfolio, also known as Equal Risk Contribution Portfolio (ERC), is an inverse vol weighted portofolio if all pairwise correlations are equal.\n",
    "\n",
    "A | B\n",
    "- | -\n",
    "<img src=\"images/risk parity equation.PNG\" width=\"500\"> | <img src=\"images/risk parity equation 2.PNG\" width=\"500\">\n",
    "\n",
    "- Risk Partity Portfolios are often leveraged to generate same volatility as the benchmark.\n",
    "- RPP tends to overweight less risky components.\n",
    "- RPP are extremely popular in practice, because they tends to be more risk efficient than traditional market benchmarks.\n",
    "- Max ENC = EW, Max ENCB = ERC, Both cases are examples of Naive Diversification.\n",
    "\n",
    "## Conclusion:\n",
    "- Cap weighted benchmarks are not the most efficient portfolios because of their excessive concentration\n",
    "- One can use a variety of diversification methodologies to build more efficient portfolios, including Equally-Weighted, Minimum Variance and Risk Parity Portoflios."
   ]
  },
  {
   "cell_type": "markdown",
   "metadata": {},
   "source": [
    "<img src=\"images/RPP 1.PNG\" width=\"500\">\n",
    "<img src=\"images/RPP 2.PNG\" width=\"500\">\n",
    "<img src=\"images/RPP 3.PNG\" width=\"500\">\n",
    "<img src=\"images/RPP 4.PNG\" width=\"500\">\n",
    "<img src=\"images/RPP 5.PNG\" width=\"500\">\n",
    "<img src=\"images/RPP 6.PNG\" width=\"500\">\n"
   ]
  },
  {
   "cell_type": "markdown",
   "metadata": {},
   "source": [
    "# Risk Contributions and Risk Parity\n",
    "\n",
    "> The word 'risk' derives from the early Italian risicare, which means 'to dare'. In this sense, risk is a choice rather than a fate. The actions we dare to take, which depend on how free we are to make choices, are what the story of risk is all about.\n",
    "\n",
    "_Peter L. Bernstein, Against the Gods: The Remarkable Story of Risk_"
   ]
  },
  {
   "cell_type": "code",
   "execution_count": 3,
   "metadata": {},
   "outputs": [],
   "source": [
    "import numpy as np\n",
    "import pandas as pd\n",
    "import matplotlib.pyplot as plt\n",
    "from scipy.optimize import minimize\n",
    "\n",
    "import edhec_risk_kit as erk\n",
    "\n",
    "#%load_ext autoreload\n",
    "#%autoreload 2\n",
    "\n",
    "inds = ['Food', 'Beer', 'Smoke', 'Games', 'Books', 'Hshld', 'Clths', 'Hlth',\n",
    "       'Chems', 'Txtls', 'Cnstr', 'Steel', 'FabPr', 'ElcEq', 'Autos', 'Carry',\n",
    "       'Mines', 'Coal', 'Oil', 'Util', 'Telcm', 'Servs', 'BusEq', 'Paper',\n",
    "       'Trans', 'Whlsl', 'Rtail', 'Meals', 'Fin', 'Other']\n",
    "inds=['Beer', 'Hlth', 'Fin','Rtail','Whlsl']\n",
    "ind_rets = erk.get_ind_returns(weighting=\"vw\", n_inds=49)[\"1974\":]\n",
    "ind_mcap = erk.get_ind_market_caps(49, weights=True)[\"1974\":]\n",
    "\n",
    "rets = ind_rets[\"2013\":][inds]\n",
    "cov = rets.cov()"
   ]
  },
  {
   "cell_type": "code",
   "execution_count": 4,
   "metadata": {},
   "outputs": [],
   "source": [
    "def risk_contribution(w, cov):\n",
    "    \"\"\"\n",
    "    Returns the weights of the portfolio that equalizes the contributions\n",
    "    of the constituents based on the given covariance matrix\n",
    "    \"\"\"\n",
    "    # Warning, pandas does have built-in outer product so w.T@w does not work\n",
    "    var = (w*cov).multiply(w,axis=0)\n",
    "    risk_contribution = var.sum(axis=1) / var.sum().sum()\n",
    "    return risk_contribution"
   ]
  },
  {
   "cell_type": "code",
   "execution_count": 5,
   "metadata": {},
   "outputs": [
    {
     "data": {
      "image.PNG": "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\n",
      "text/plain": [
       "<Figure size 432x288 with 1 Axes>"
      ]
     },
     "metadata": {
      "needs_background": "light"
     },
     "output_type": "display_data"
    }
   ],
   "source": [
    "risk_contribution(erk.weight_ew(rets), cov).plot.bar(title=\"Risk Contributions of an EW portfolio\", \n",
    "                                                     color=['r','b','g','k','m'])\n",
    "plt.show()"
   ]
  },
  {
   "cell_type": "code",
   "execution_count": 7,
   "metadata": {},
   "outputs": [],
   "source": [
    "def target_risk_contributions(target_risk, cov):\n",
    "    \"\"\"\n",
    "    Returns the weights of the portfolio that gives you the weights such\n",
    "    that the contributions to portfolio risk are as close as possible to\n",
    "    the target_risk, given the covariance matrix\n",
    "    \"\"\"\n",
    "    def cost(w, target_risk, cov):\n",
    "        w_contribs = risk_contribution(w, cov)\n",
    "        return ((target_risk - w_contribs)**2).sum()\n",
    "    \n",
    "    init_w = np.repeat(1/len(cov), len(cov))\n",
    "    \n",
    "    test_c = cost(init_w, target_risk, cov)\n",
    "    \n",
    "    bounds = ((0.0, 1.0),) * len(cov)\n",
    "    weights_sum_to_1 = {'type': 'eq',\n",
    "                        'fun': lambda weights: np.sum(weights) - 1}\n",
    "    \n",
    "    result = minimize(cost,\n",
    "             init_w,\n",
    "             args=(target_risk, cov),\n",
    "             method='SLSQP',\n",
    "             bounds=bounds,\n",
    "             constraints=weights_sum_to_1\n",
    "            )\n",
    "    return result.x\n",
    "\n",
    "def equal_risk_contributions(cov):\n",
    "    \"\"\"\n",
    "    Returns the weights of the portfolio that equalizes the contributions\n",
    "    of the constituents based on the given covariance matrix\n",
    "    \"\"\"\n",
    "    equal_risk = np.repeat(1/len(cov), len(cov))\n",
    "    weight = target_risk_contributions(equal_risk, cov)\n",
    "    return weight"
   ]
  },
  {
   "cell_type": "code",
   "execution_count": 8,
   "metadata": {},
   "outputs": [
    {
     "data": {
      "image.PNG": "iVBORw0KGgoAAAANSUhEUgAAAYAAAAEaCAYAAAAYOoCaAAAABHNCSVQICAgIfAhkiAAAAAlwSFlzAAALEgAACxIB0t1+/AAAADh0RVh0U29mdHdhcmUAbWF0cGxvdGxpYiB2ZXJzaW9uMy4xLjEsIGh0dHA6Ly9tYXRwbG90bGliLm9yZy8QZhcZAAAgAElEQVR4nO3de7gdVX3/8ffHAFHLTeBUISEmSLxEqVACUlupBcHQKqE/QUNRwKKp/ZXSFmuFVvEx6K/SG5WKVRRQ8IKItcYSn0BF7EXEhEsJkaYcApJjUIMhNso18Pn9MeuQyXafs+ckJ2cfmM/refZzZq+1Zs2a2XPmO7PmJttERET7PKPfDYiIiP5IAIiIaKkEgIiIlkoAiIhoqQSAiIiWSgCIiGipBICnCEkfk/TeBuXukfSaiWjTeJD0U0n7leFPSfrAONbdaJlNFEkvknSLpI2Szuh3e55qJP22pDVlnTmoR9kn1yVJr5K0amJa+dSSADBJlA33Q2Xl/kFZgXcezrf9DtvnjvM0JekMSbdL+pmkIUlflHTAONR9vaS39Spne2fbq8dheqdK+o+Ousd9mW2jPwOut72L7Qu254TK8n+4rE/Dn6+WvFdLeqKkbZS0StJbO8bfbutGw/Z325H5G+D0ss7c0rQu2/9u+0Xj28KnhwSAyeX1tncGDgQOAs7eztP7MPBHwBnAHsALgX8Gfms7TxdJO2zvaUxCzwdWTuD0hjeWw5/X1/LWlnVtV+BPgE9Iqm8k+7Ju9FgvJnr5Pf3ZzmcSfIB7gNfUvv8VcHXt+6eAD5ThvYB/ATYA64F/B57RWQ/wYuBuYEGX6c0GHgcOHaVNuwGXAeuA7wHvqU3nVOA/qPbKHijTOabkfbDU/TDwU+AjJd3AHwB3AnfX0vavzePHgGuBjcA3geeXvJml7A619l0PvA14SZnW42V6GzqXWfn+dmCwLLPFwD61PAPvKG17ALgQUMnbv7TlJ8D9wBdGWWbHUm2kNpT2vaSkX9exTF7YZdy3AneUeV8N/F4t79XAEPBO4EfAfcBbR2nH9cDbRsh7NTDUkfYj4ISm68YI0/tL4DtlOX0F2KPXcqmts+8GbgMeAT4PPAE8VJbVu8tfAz8D7irjvaTUtaHUfewI/y9bzO9o47XtkyOASUjSdOAYqo1VN++k2hgMAM8F/pzqn6Nexy8D1wB/aPuKLnUcSfVP8Z1RmvIPVEFgP+DXgZOpNlLDXgGsogpIfwVcLEm2/4IqKA3vgZ5eG+e4Mt6cEaZ5EnBuqfNW4LOjtA8A23dQbbxvKNPbvbOMpCOoNlBvBPamCmidy+V1wCHAy0u515b0c6mW5XOA6VTL5edIeiHVxuuPqX6bJcBXJe1k+wi2XCb/06WKH5U27Eq1nM8vv+Ow51H9HtOA04ALJT1npOXShKRnSDqWankPr29N1o1uTgZ+F9gH2ARcUKYx4nKpjXsi1dHF7rZPBO6lHBHbPs/V0QrAy22/QNKOwFepfpdfBP4Q+GzHUUy3+d2q8Z6uEgAml3+WtBFYQ7UxeN8I5R6j2og93/Zjrvo46wHgVVR7uKfY/pcR6tiTai+yK0lTgDcBZ9veaPse4G+Bt9SKfc/2J2w/Dny6tOm5PebxL22vt/3QCPlX2/43248AfwH8iqR9e9TZxEnAJbZvLnWfXeqeWSvzIdsbbN8LfIOqKw6q5f18qiOGh21vca6h5k2l/dfafozq6OhZwCubNND21bbvcuWbVBupV9WKPAYsKr/5Eqq94tE2XBdI2lD71M+H7CNpA9Ve9peBM725X33UdWMUl9u+3fbPgPcCb6ytR72WywW214yyXnQ6DNiZ6jd71PZ1VEfFJ26n8Z6WEgAml+Ns70J1yPpiqr2ybv6aam/tGkmrJZ3Vkf8O4Fu2vzHKtH5MtcEeyV7ATlR7ysO+R7X3OewHwwO2HyyDOzO6NU3zbf+Uqrtmnx7jNLEPtXkpdf+YEeYHeJDN8/JngIDvSFop6XcbTuMJqvmZNkL5LUg6RtK3Ja0vG+ffZMt14Me2N43Qxm7OsL177VO/ImptOVLalWpP/Yj6dBh93RhJ/bf9HrBjaX+T5dJrvei0D7Cm1FWfZq9lvbXjPS0lAExCZe/vU1R7St3yN9p+p+39gNcDZ0o6slbkHcAMSeePMpmvA9MlzR0h/3427/kOmwF8v9lcbNkl1SB92JN7++UqqD2AtVR9vwDPrpV93hjqXUttXiT9AtWebs/5sf0D22+3vQ/we8BHJe3fYBoq89NzGpKmAl+i+s2fWzbOS6gCz3ZTjobeDRwg6biS3GvdGEn9SG0G1fpzP82WS+fv1+T33FdSfRvWZP3c2vGelhIAJq+/B46SdGBnhqTXSdq//CP9L9UJu8drRTYC84DDJX2oW+W27wQ+Cny+XBa4k6RnSlog6azSrXMl8EFJu0h6PnAm8JmG7f8h1bmDsfpNSb9W+ofPBW4sXQPrqP5J3yxpStkLf0HH9KZ39CvXfQ54q6QDy8b2/5W67+nVIEknlPMyUJ0gNlsu72FXAr8l6cjS1/xOqpOa3+o1DaqjralUJ9w3SToGOLrBeNvM9qNU3XvnlO+jrhujVPVmSXMkPRtYBFxVW4/Gulx6rT83Uu0U/JmkHSW9mmpnqNv5rvEY72kpAWCSKhu8y6j6UjvNBv6Vqg/4BuCjtq/vGH8DcBRwTEffb90ZwEeornjZANwF/DbVSTKoTpD9jOqKlP+g2ohe0nAWPgwcL+kBSWO55v1zVOc+1gMHU/XdD3s78C6qLoqXsuUG5DqqKzp+IOn+zkptf51qWX6Jqn/7BcCChm06BLhR0k+pzq38ke27u0xjFfBmqpPE91NtWF5fNrCjsr2R6ve4kirI/E6Z1rb4SMd9ADeNUvYSqqPG4UtFe60b3VxOdeT6A+CZpY6tXS5/CbynnLv4087MMu6xVBdL3E8VsE62/d+j1LnV4z1dDV/mFhGx1SRdD3zG9if73ZZoLkcAEREtlQAQEdFS6QKKiGipHAFERLRUAkBEREs9pZ7IuNdee3nmzJn9bkZExFPKTTfddL/tgc70p1QAmDlzJsuXL+93MyIinlIkfa9berqAIiJaKgEgIqKlEgAiIloqASAioqUSACIiWqpRAJA0T9IqSYPdHgcr6UxJ35V0m6Svl0cHD+edIunO8jmlln6wpBWlzgvKo40jImKC9AwA5ZVuF1I9PnUOcKKkzve53gLMtf1LwFVU74dF0h5Uj/Z9BXAo8L7aO0z/EVhI9Wjj2VTPr4+IiAnS5AjgUGDQ9uryLO0rgPn1Ara/UXsl4LepXpwN1Uu1ry3vgH0AuBaYJ2lvYFfbN5R32V5G9bLwiIiYIE1uBJvGlu/rHKLaox/JacDXRhl3WvkMdUmPiJgUZp51db+bAMA9H/qt7VZ3kwDQrW++6yNEJb0ZmAv8eo9xx1LnQqquImbMmNGrrT1Nhh91e/6gY5FlUZkMywGyLOomw7JogyZdQENs+bLn6VQvVt6CpNcAfwEcW140Pdq4Q2zuJhqxTgDbF9mea3vuwMDPPcoiIiK2UpMAsAyYLWlWeeH2AjreVSrpIODjVBv/H9WylgJHS3pOOfl7NLDU9n3ARkmHlat/Tga+Mg7zExERDfXsArK9SdLpVBvzKcAltldKWgQst70Y+GtgZ+CL5WrOe20fa3t9eSH5slLdItvry/DvU71A+llU5wy+RkRETJhGTwO1vQRY0pF2Tm34NaOMewlwSZf05cDLGrc0IiLGVe4EjohoqQSAiIiWSgCIiGipBICIiJZKAIiIaKkEgIiIlkoAiIhoqQSAiIiWSgCIiGipBICIiJZKAIiIaKkEgIiIlkoAiIhoqQSAiIiWSgCIiGipBICIiJZKAIiIaKlGAUDSPEmrJA1KOqtL/uGSbpa0SdLxtfTfkHRr7fOwpONK3qck3V3LO3D8ZisiInrp+UpISVOAC4GjgCFgmaTFtr9bK3YvcCrwp/VxbX8DOLDUswcwCFxTK/Iu21dtywxERMTWafJO4EOBQdurASRdAcwHngwAtu8peU+MUs/xwNdsP7jVrY2IiHHTpAtoGrCm9n2opI3VAuDzHWkflHSbpPMlTe02kqSFkpZLWr5u3bqtmGxERHTTJACoS5rHMhFJewMHAEtryWcDLwYOAfYA3t1tXNsX2Z5re+7AwMBYJhsREaNoEgCGgH1r36cDa8c4nTcCX7b92HCC7ftceQS4lKqrKSIiJkiTALAMmC1plqSdqLpyFo9xOifS0f1TjgqQJOA44PYx1hkREdugZwCwvQk4nar75g7gStsrJS2SdCyApEMkDQEnAB+XtHJ4fEkzqY4gvtlR9WclrQBWAHsBH9j22YmIiKaaXAWE7SXAko60c2rDy6i6hrqNew9dThrbPmIsDY2IiPGVO4EjIloqASAioqUSACIiWioBICKipRIAIiJaKgEgIqKlEgAiIloqASAioqUSACIiWioBICKipRIAIiJaKgEgIqKlEgAiIloqASAioqUSACIiWioBICKipRoFAEnzJK2SNCjprC75h0u6WdImScd35D0u6dbyWVxLnyXpRkl3SvpCed1kRERMkJ4BQNIU4ELgGGAOcKKkOR3F7gVOBT7XpYqHbB9YPsfW0s8Dzrc9G3gAOG0r2h8REVupyRHAocCg7dW2HwWuAObXC9i+x/ZtwBNNJlpeBH8EcFVJ+jTVi+EjImKCNAkA04A1te9DdHnH7yieKWm5pG9LGt7I7wlsKC+c35o6IyJiGzV5Kby6pHkM05hhe62k/YDrJK0A/rdpnZIWAgsBZsyYMYbJRkTEaJocAQwB+9a+TwfWNp2A7bXl72rgeuAg4H5gd0nDAWjEOm1fZHuu7bkDAwNNJxsRET00CQDLgNnlqp2dgAXA4h7jACDpOZKmluG9gF8FvmvbwDeA4SuGTgG+MtbGR0TE1usZAEo//enAUuAO4ErbKyUtknQsgKRDJA0BJwAfl7SyjP4SYLmk/6La4H/I9ndL3ruBMyUNUp0TuHg8ZywiIkbX5BwAtpcASzrSzqkNL6Pqxukc71vAASPUuZrqCqOIiOiD3AkcEdFSCQARES2VABAR0VIJABERLZUAEBHRUgkAEREtlQAQEdFSCQARES2VABAR0VIJABERLZUAEBHRUgkAEREtlQAQEdFSCQARES2VABAR0VIJABERLZUAEBHRUo0CgKR5klZJGpR0Vpf8wyXdLGmTpONr6QdKukHSSkm3SXpTLe9Tku6WdGv5HDg+sxQREU30fCWkpCnAhcBRwBCwTNLi2rt9Ae4FTgX+tGP0B4GTbd8paR/gJklLbW8o+e+yfdW2zkRERIxdk3cCHwoMlnf4IukKYD7wZACwfU/Je6I+ou3/qQ2vlfQjYADYQERE9FWTLqBpwJra96GSNiaSDgV2Au6qJX+wdA2dL2nqWOuMiIit1yQAqEuaxzIRSXsDlwNvtT18lHA28GLgEGAP4N0jjLtQ0nJJy9etWzeWyUZExCiaBIAhYN/a9+nA2qYTkLQrcDXwHtvfHk63fZ8rjwCXUnU1/RzbF9mea3vuwMBA08lGREQPTQLAMmC2pFmSdgIWAIubVF7Kfxm4zPYXO/L2Ln8FHAfcPpaGR0TEtukZAGxvAk4HlgJ3AFfaXilpkaRjASQdImkIOAH4uKSVZfQ3AocDp3a53POzklYAK4C9gA+M65xFRMSomlwFhO0lwJKOtHNqw8uouoY6x/sM8JkR6jxiTC2NiIhxlTuBIyJaKgEgIqKlEgAiIloqASAioqUSACIiWioBICKipRIAIiJaKgEgIqKlEgAiIloqASAioqUSACIiWioBICKipRIAIiJaKgEgIqKlEgAiIloqASAioqUSACIiWqpRAJA0T9IqSYOSzuqSf7ikmyVtknR8R94pku4sn1Nq6QdLWlHqvKC8GzgiIiZIzwAgaQpwIXAMMAc4UdKcjmL3AqcCn+sYdw/gfcArgEOB90l6Tsn+R2AhMLt85m31XERExJg1OQI4FBi0vdr2o8AVwPx6Adv32L4NeKJj3NcC19peb/sB4FpgnqS9gV1t32DbwGXAcds6MxER0VyTADANWFP7PlTSmhhp3GlleGvqjIiIcdAkAHTrm3fD+kcat3GdkhZKWi5p+bp16xpONiIiemkSAIaAfWvfpwNrG9Y/0rhDZbhnnbYvsj3X9tyBgYGGk42IiF6aBIBlwGxJsyTtBCwAFjesfylwtKTnlJO/RwNLbd8HbJR0WLn652TgK1vR/oiI2Eo9A4DtTcDpVBvzO4Arba+UtEjSsQCSDpE0BJwAfFzSyjLueuBcqiCyDFhU0gB+H/gkMAjcBXxtXOcsIiJGtUOTQraXAEs60s6pDS9jyy6derlLgEu6pC8HXjaWxkZExPjJncARES2VABAR0VIJABERLZUAEBHRUgkAEREtlQAQEdFSCQARES2VABAR0VIJABERLZUAEBHRUgkAEREtlQAQEdFSCQARES2VABAR0VIJABERLZUAEBHRUgkAEREt1SgASJonaZWkQUlndcmfKukLJf9GSTNL+kmSbq19npB0YMm7vtQ5nPeL4zljERExup4BQNIU4ELgGGAOcKKkOR3FTgMesL0/cD5wHoDtz9o+0PaBwFuAe2zfWhvvpOF82z8ah/mJiIiGmhwBHAoM2l5t+1HgCmB+R5n5wKfL8FXAkZLUUeZE4PPb0tiIiBg/TQLANGBN7ftQSetaxvYm4CfAnh1l3sTPB4BLS/fPe7sEjIiI2I6aBIBuG2aPpYykVwAP2r69ln+S7QOAV5XPW7pOXFooabmk5evWrWvQ3IiIaKJJABgC9q19nw6sHamMpB2A3YD1tfwFdOz92/5++bsR+BxVV9PPsX2R7bm25w4MDDRobkRENNEkACwDZkuaJWknqo354o4yi4FTyvDxwHW2DSDpGcAJVOcOKGk7SNqrDO8IvA64nYiImDA79Cpge5Ok04GlwBTgEtsrJS0CltteDFwMXC5pkGrPf0GtisOBIdura2lTgaVl4z8F+FfgE+MyRxER0UjPAABgewmwpCPtnNrww1R7+d3GvR44rCPtZ8DBY2xrRESMo9wJHBHRUgkAEREtlQAQEdFSCQARES2VABAR0VIJABERLZUAEBHRUgkAEREtlQAQEdFSCQARES2VABAR0VIJABERLZUAEBHRUgkAEREtlQAQEdFSCQARES2VABAR0VKNAoCkeZJWSRqUdFaX/KmSvlDyb5Q0s6TPlPSQpFvL52O1cQ6WtKKMc4EkjddMRUREbz0DgKQpwIXAMcAc4ERJczqKnQY8YHt/4HzgvFreXbYPLJ931NL/EVgIzC6feVs/GxERMVZNjgAOBQZtr7b9KHAFML+jzHzg02X4KuDI0fboJe0N7Gr7BtsGLgOOG3PrIyJiqzUJANOANbXvQyWtaxnbm4CfAHuWvFmSbpH0TUmvqpUf6lFnRERsRzs0KNNtT94Ny9wHzLD9Y0kHA/8s6aUN66wqlhZSdRUxY8aMBs2NiIgmmhwBDAH71r5PB9aOVEbSDsBuwHrbj9j+MYDtm4C7gBeW8tN71EkZ7yLbc23PHRgYaNDciIhookkAWAbMljRL0k7AAmBxR5nFwCll+HjgOtuWNFBOIiNpP6qTvatt3wdslHRYOVdwMvCVcZifiIhoqGcXkO1Nkk4HlgJTgEtsr5S0CFhuezFwMXC5pEFgPVWQADgcWCRpE/A48A7b60ve7wOfAp4FfK18IiJigjQ5B4DtJcCSjrRzasMPAyd0Ge9LwJdGqHM58LKxNDYiIsZP7gSOiGipBICIiJZKAIiIaKkEgIiIlkoAiIhoqQSAiIiWSgCIiGipBICIiJZKAIiIaKkEgIiIlkoAiIhoqQSAiIiWSgCIiGipBICIiJZKAIiIaKkEgIiIlkoAiIhoqUYBQNI8SaskDUo6q0v+VElfKPk3SppZ0o+SdJOkFeXvEbVxri913lo+vzheMxUREb31fCVkean7hcBRwBCwTNJi29+tFTsNeMD2/pIWAOcBbwLuB15ve62kl1G9V3habbyTyqshIyJigjU5AjgUGLS92vajwBXA/I4y84FPl+GrgCMlyfYttteW9JXAMyVNHY+GR0TEtmkSAKYBa2rfh9hyL36LMrY3AT8B9uwo8wbgFtuP1NIuLd0/75WkMbU8IiK2SZMA0G3D7LGUkfRSqm6h36vln2T7AOBV5fOWrhOXFkpaLmn5unXrGjQ3IiKaaBIAhoB9a9+nA2tHKiNpB2A3YH35Ph34MnCy7buGR7D9/fJ3I/A5qq6mn2P7Ittzbc8dGBhoMk8REdFAkwCwDJgtaZaknYAFwOKOMouBU8rw8cB1ti1pd+Bq4Gzb/zlcWNIOkvYqwzsCrwNu37ZZiYiIsegZAEqf/ulUV/DcAVxpe6WkRZKOLcUuBvaUNAicCQxfKno6sD/w3o7LPacCSyXdBtwKfB/4xHjOWEREjK7nZaAAtpcASzrSzqkNPwyc0GW8DwAfGKHag5s3MyIixlvuBI6IaKkEgIiIlkoAiIhoqQSAiIiWSgCIiGipBICIiJZKAIiIaKkEgIiIlkoAiIhoqQSAiIiWSgCIiGipBICIiJZKAIiIaKkEgIiIlkoAiIhoqQSAiIiWSgCIiGipRgFA0jxJqyQNSjqrS/5USV8o+TdKmlnLO7ukr5L02qZ1RkTE9tUzAEiaAlwIHAPMAU6UNKej2GnAA7b3B84HzivjzqF6ifxLgXnARyVNaVhnRERsR02OAA4FBm2vtv0ocAUwv6PMfODTZfgq4EhJKulX2H7E9t3AYKmvSZ0REbEdNQkA04A1te9DJa1rGdubgJ8Ae44ybpM6IyJiO9qhQRl1SXPDMiOldws8nXVWFUsLgYXl608lrRqhnRNlL+D+balA541TS/ovy2KzLIvNsiw2myzL4vndEpsEgCFg39r36cDaEcoMSdoB2A1Y32PcXnUCYPsi4KIG7ZwQkpbbntvvdkwGWRabZVlslmWx2WRfFk26gJYBsyXNkrQT1UndxR1lFgOnlOHjgetsu6QvKFcJzQJmA99pWGdERGxHPY8AbG+SdDqwFJgCXGJ7paRFwHLbi4GLgcslDVLt+S8o466UdCXwXWAT8Ae2HwfoVuf4z15ERIxE1Y56NCVpYemWar0si82yLDbLsthssi+LBICIiJbKoyAiIloqASAioqUSAHqQ9AxJr+x3OyIixlvOATQg6Qbbv9LvdkwGkl4IvIvqxpInryKzfUTfGtVH5blWz2XLZXFv/1o0sSR9lRFu4gSwfewENqdvJP2f0fJt/9NEtWUsmtwIFnCNpDcA/+REzC8CHwM+ATze57b0laQ/BN4H/BB4oiQb+KW+NWri/U2/GzBJvH6UPAOTMgDkCKABSRuBX6Da4D1E9YgL2961rw3rA0k32T643+2YDMp9L6+w/eN+tyVia+QcQAO2d7H9DNs72t61fG/Vxl/SHpL2AL4q6f9K2ns4raS30RqqBx+2VrnRE0krJN3W+el3+yaapD+StKsqn5R0s6Sj+92ukeQIoIHyaOuTgFm2z5W0L7C37e/0uWkTRtLdjPKAP9v7TXCT+k7SxcCLgKuBR4bTbf9d3xo1wSTtbfs+SV0fNmb7exPdpn6S9F+2X15efvUHwHuBS23/cp+b1lXOATTzUao+3iOAc4GfUr3Q5pB+Nmoi2Z4FIOmZth+u50l6Zn9a1Xf3ls9O5dM6tu8rf1u1oR/F8A7Sb1Jt+P+r7EBOSgkAzbzC9i9LugXA9gPlIXZt9C2gc2+mW9rTnu3397sNk4Wkw4B/AF5CFQynAD9rW1cpcJOka4BZwNmSdmHzBQKTTgJAM4+Vy/0MIGmASfyjbg+Snkf10p5nSTqIzXs6uwLP7lvD+kDS39v+45EugWzLpY8dPkL1EMgvAnOBk4H9+9qi/jgNOBBYbftBSXsCb+1zm0aUANDMBcCXgedK+iDVI6/f098mTbjXAqdSvbuh3se9EfjzfjSojy4vf3MJZI3tQUlTyhN/L5X0rX63aaJI6jwC3m8S9/w8KSeBG5L0YuBIqj3fr9u+o89N6gtJb7D9pX63o58kzWjTzV5NSPo34DXAJ4EfAPcBp9p+eV8bNkEkfWOUbE/WGyUTABqS9GvAbNuXli6gncuL7ltB0pmj5bfsypebh6/qkPQl22/od5v6rVwF9EOq/v8/oXor4IW27+prw2JU6QJqQNL7qPo1XwRcCuwIfAb41X62a4Lt0u8GTCL1Y/vWXf46guNsfxh4GHg/VNfEAx/ua6v6oDw7bCZbPh7ksr41aBQ5AmhA0q3AQcDNtg8qabfZbtMt/1F0HAE8Odxm3ZaDpFuG/1/aQtLlwAuAW9n8qBTbPqN/rRpZjgCaedS2JQ1fBfQL/W7QRJN0wWj5k3UF305eLul/qY4EnlWGoYWPCJF0IvA7wCxJ9fd67wK08REZc4E5T5VnhiUANHOlpI8Du0t6O/C7VA9Da5ObasPvp3oIWivZntLvNkwi36I64bsX8Le19I1A6x4FAdwOPI9qmUx66QJqSNJRwNFUe3lLbV/b5yb1TRsP7WNsyn0zC2x/tt9tmQi1e0J2oboP4Dts+XiQSXlvSI4AGiob/Gsl7UU7D23rstcQAEjaleqZN9OAxcC15fu7qPrBWxEAgOuotqe3AI/1uS2N5Wmgo5B0mKTrJf2TpIMk3U51iPdDSfP63b6ISeByqqvjVgBvA64BTgDm257fz4ZNsGnAb1PdCf1+qhsndwZW2P5mPxs2mnQBjULScqq7XHcDLgKOsf3tclPY59vUDVLeiTC8sjwbeHA4i5ad+IzNJK2wfUAZngLcD8ywvbG/LeuP8oywucArgV8pnw225/S1YSNIF9DodrB9DYCkRba/DWD7v58Kt3mPJ9u5DyC6ebK7w/bjku5u68a/eBbV87F2K5+1VEdHk1ICwOjqD3x7qCMvh04Rmy+JhS0vi23VkaGki4CXUl39dCPV1VF/Z/uBvjashwSA0Y12vXdbn4Ef8aRcEvukGcBU4E7g+8AQsKGvLWog5wAiIsZBefHLS6n6/18JvAxYD9xge1LeN5MAEBExjiRNp3pO2CuB1wF72hnorEsAAABaSURBVN69v63qLgEgImIbSTqDaoP/q1Qnxv8TuKH8XWF7Ur5AKucAIiK23UzgKuBPht+T/FSQI4CIiJbKncARES2VABAR0VIJABERLZUAEBHRUgkAEREt9f8BMiDFh1msMa4AAAAASUVORK5CYII=\n",
      "text/plain": [
       "<Figure size 432x288 with 1 Axes>"
      ]
     },
     "metadata": {
      "needs_background": "light"
     },
     "output_type": "display_data"
    }
   ],
   "source": [
    "risk_contribution(equal_risk_contributions(cov), cov).plot.bar(title=\"Risk Contributions of an ERC portfolio\")\n",
    "plt.show()"
   ]
  },
  {
   "cell_type": "code",
   "execution_count": null,
   "metadata": {},
   "outputs": [],
   "source": [
    "## Back testing the Equal Risk Contribution Portfolio"
   ]
  },
  {
   "cell_type": "code",
   "execution_count": 36,
   "metadata": {},
   "outputs": [],
   "source": [
    "def weight_erc(r, cov_estimator=erk.sample_cov, **kwargs):\n",
    "    \"\"\"\n",
    "    Produces the weights of the ERC portfolio given a covariance matrix of the returns \n",
    "    \"\"\"\n",
    "    est_cov = cov_estimator(r, **kwargs)\n",
    "    return equal_risk_contributions(est_cov)"
   ]
  },
  {
   "cell_type": "code",
   "execution_count": null,
   "metadata": {},
   "outputs": [],
   "source": [
    "ewr = erk.backtest_ws(ind_rets, estimation_window=36, weighting=erk.weight_ew)\n",
    "cwr = erk.backtest_ws(ind_rets, estimation_window=36, weighting=erk.weight_cw, cap_weights=ind_mcap)\n",
    "mv_erc_r = erk.backtest_ws(ind_rets, estimation_window=36, weighting=weight_erc, cov_estimator=erk.sample_cov)\n",
    "btr = pd.DataFrame({\"EW\": ewr, \"CW\": cwr, \"ERC-Sample\": mv_erc_r})\n",
    "(1+btr).cumprod().plot(figsize=(12,6), title=\"Industry Portfolios\")\n",
    "erk.summary_stats(btr.dropna())"
   ]
  },
  {
   "cell_type": "markdown",
   "metadata": {},
   "source": [
    "# Week 4 Quiz"
   ]
  },
  {
   "cell_type": "code",
   "execution_count": 23,
   "metadata": {},
   "outputs": [],
   "source": [
    "import numpy as np\n",
    "import pandas as pd\n",
    "import matplotlib.pyplot as plt\n",
    "from scipy.optimize import minimize\n",
    "\n",
    "import edhec_risk_kit as erk\n",
    "\n",
    "#%load_ext autoreload\n",
    "#%autoreload 2"
   ]
  },
  {
   "cell_type": "code",
   "execution_count": null,
   "metadata": {},
   "outputs": [],
   "source": [
    "ind_rets = erk.get_ind_returns(weighting=\"vw\", n_inds=49)[\"2014\":]\n",
    "ind_mcap = erk.get_ind_market_caps(49, weights=True)[\"2014\":]"
   ]
  },
  {
   "cell_type": "code",
   "execution_count": 25,
   "metadata": {},
   "outputs": [
    {
     "data": {
      "text/plain": [
       "Rtail    0.070120\n",
       "Drugs    0.084653\n",
       "Oil      0.088914\n",
       "Softw    0.093745\n",
       "Banks    0.104060\n",
       "dtype: float64"
      ]
     },
     "execution_count": 25,
     "metadata": {},
     "output_type": "execute_result"
    }
   ],
   "source": [
    "cov = ind_rets.cov()\n",
    "w_cw = ind_mcap.iloc[0]\n",
    "risk_contribution(w_cw, cov).sort_values().tail()"
   ]
  },
  {
   "cell_type": "code",
   "execution_count": 41,
   "metadata": {},
   "outputs": [
    {
     "data": {
      "text/plain": [
       "BldMt    0.028106\n",
       "Mines    0.028641\n",
       "Coal     0.029025\n",
       "Ships    0.030005\n",
       "Steel    0.030938\n",
       "dtype: float64"
      ]
     },
     "execution_count": 41,
     "metadata": {},
     "output_type": "execute_result"
    }
   ],
   "source": [
    "cov = ind_rets.cov()\n",
    "w_ew = erk.weight_ew(ind_rets)\n",
    "risk_contribution(w_ew, cov).sort_values().tail()"
   ]
  },
  {
   "cell_type": "code",
   "execution_count": 42,
   "metadata": {},
   "outputs": [],
   "source": [
    "w_er = pd.Series(weight_erc(ind_rets, cov_estimator=erk.sample_cov), index=cov.index)"
   ]
  },
  {
   "cell_type": "code",
   "execution_count": 43,
   "metadata": {},
   "outputs": [
    {
     "data": {
      "text/plain": [
       "Food     0.030251\n",
       "Beer     0.032028\n",
       "Smoke    0.032606\n",
       "Hshld    0.033184\n",
       "Util     0.052156\n",
       "dtype: float64"
      ]
     },
     "execution_count": 43,
     "metadata": {},
     "output_type": "execute_result"
    }
   ],
   "source": [
    "w_er.sort_values().tail()"
   ]
  },
  {
   "cell_type": "code",
   "execution_count": 35,
   "metadata": {},
   "outputs": [
    {
     "data": {
      "text/plain": [
       "Steel    0.012809\n",
       "Ships    0.013041\n",
       "BldMt    0.013790\n",
       "Mines    0.013951\n",
       "Mach     0.014292\n",
       "dtype: float64"
      ]
     },
     "execution_count": 35,
     "metadata": {},
     "output_type": "execute_result"
    }
   ],
   "source": [
    "w_er.sort_values().head()"
   ]
  },
  {
   "cell_type": "code",
   "execution_count": 48,
   "metadata": {},
   "outputs": [
    {
     "data": {
      "text/plain": [
       "0.10396449439816839"
      ]
     },
     "execution_count": 48,
     "metadata": {},
     "output_type": "execute_result"
    }
   ],
   "source": [
    "r_contribs = risk_contribution(w_cw, cov).sort_values()\n",
    "r_contribs[-1]-r_contribs[0]"
   ]
  },
  {
   "cell_type": "code",
   "execution_count": 49,
   "metadata": {},
   "outputs": [
    {
     "data": {
      "text/plain": [
       "0.025021757624911472"
      ]
     },
     "execution_count": 49,
     "metadata": {},
     "output_type": "execute_result"
    }
   ],
   "source": [
    "r_contribs = risk_contribution(w_ew, cov).sort_values()\n",
    "r_contribs[-1]-r_contribs[0]"
   ]
  },
  {
   "cell_type": "code",
   "execution_count": null,
   "metadata": {},
   "outputs": [],
   "source": []
  }
 ],
 "metadata": {
  "kernelspec": {
   "display_name": "Python 3",
   "language": "python",
   "name": "python3"
  },
  "language_info": {
   "codemirror_mode": {
    "name": "ipython",
    "version": 3
   },
   "file_extension": ".py",
   "mimetype": "text/x-python",
   "name": "python",
   "nbconvert_exporter": "python",
   "pygments_lexer": "ipython3",
   "version": "3.7.6"
  }
 },
 "nbformat": 4,
 "nbformat_minor": 4
}
