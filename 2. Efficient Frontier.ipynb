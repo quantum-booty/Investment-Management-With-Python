{
 "cells": [
  {
   "cell_type": "markdown",
   "metadata": {},
   "source": [
    "# Generalised Volatility\n",
    "## The generalised volativity of a portfolio is:\n",
    "$\\sigma_p ^2 = \\sum_{i=1}^k \\sum_{j=1}^k \\omega_i \\omega_j \\sigma_i \\sigma_j \\rho_{ij} = \\omega^T \\Sigma \\omega\n",
    "$\n",
    "\n",
    "#### where $\\rho$ is the correlation matrix and $\\sigma_i \\sigma_j \\rho_{ij}$ is the covariance\n",
    "\n",
    "\n",
    "<img src=\"images\\Efficient frontier 1.PNG\" width=\"400px\">\n",
    "We know there exist asset with highest and lowest possible returns, these will be the end points of the Efficient Frontier. We can then split between R_max and R_min into many steps, and find the least possible volativity for each R between the min and max. This way, we can numerically calculate the efficient frontier.\n",
    "\n",
    "### Minimise: $\\frac{1}{2}w^T\\Sigma w$\n",
    "\n",
    "### Subject to the constraints:\n",
    "\n",
    "$w^T R=r_o$\n",
    "\n",
    "$w^T1=1$\n",
    "\n",
    "$w\\geq0$"
   ]
  },
  {
   "cell_type": "code",
   "execution_count": 1,
   "metadata": {
    "collapsed": false,
    "jupyter": {
     "outputs_hidden": false
    }
   },
   "outputs": [],
   "source": [
    "import pandas as pd\n",
    "import numpy as np\n",
    "import scipy.stats\n",
    "import edhec_risk_kit as erk \n",
    "%load_ext autoreload\n",
    "%autoreload 2"
   ]
  },
  {
   "cell_type": "code",
   "execution_count": 21,
   "metadata": {
    "collapsed": false,
    "jupyter": {
     "outputs_hidden": false
    }
   },
   "outputs": [],
   "source": [
    "def portfolio_return(weights, returns):\n",
    "    \"\"\"\n",
    "    Weights -> Returns\n",
    "    \"\"\"\n",
    "    return weights.T @ returns\n",
    "\n",
    "def portfolio_vol(weights, cov):\n",
    "    \"\"\"\n",
    "    Weifghts -> Vol\n",
    "    \"\"\"\n",
    "    return (weights.T @ cov @weights) ** 0.5"
   ]
  },
  {
   "cell_type": "markdown",
   "metadata": {},
   "source": [
    "# N-Asset Efficient Frontier"
   ]
  },
  {
   "cell_type": "code",
   "execution_count": 25,
   "metadata": {
    "collapsed": false,
    "jupyter": {
     "outputs_hidden": false
    }
   },
   "outputs": [],
   "source": [
    "ind = erk.get_ind_returns(weighting='vw', n_inds=30)\n",
    "er = erk.ann_return(ind[\"1996\":\"2000\"])\n",
    "cov = ind[\"1996\":\"2000\"].cov()"
   ]
  },
  {
   "cell_type": "code",
   "execution_count": 23,
   "metadata": {
    "collapsed": false,
    "jupyter": {
     "outputs_hidden": false
    }
   },
   "outputs": [],
   "source": [
    "def minimize_vol(target_return, er, cov):\n",
    "    \"\"\"\n",
    "    target_ret -> W\n",
    "    \"\"\"\n",
    "    n = er.shape[0]\n",
    "    init_guess = np.repeat(1/n, n)\n",
    "    bounds = ((0.0, 1),)*n\n",
    "    return_is_target = {\n",
    "        \"type\": \"eq\",\n",
    "        \"args\": (er,),\n",
    "        \"fun\": lambda weights, er: target_return - erk.portfolio_return(weights, er)\n",
    "    }\n",
    "    weights_sum_to_1 = {\n",
    "            \"type\": \"eq\",\n",
    "            \"fun\": lambda weights: np.sum(weights) - 1\n",
    "    }\n",
    "    results = minimize(erk.portfolio_vol, init_guess,\n",
    "                      args=(cov,), method=\"SLSQP\",\n",
    "                       options={\"disp\": False},\n",
    "                       constraints=(return_is_target, weights_sum_to_1),\n",
    "                       bounds=bounds\n",
    "                      )\n",
    "    return results.x\n"
   ]
  },
  {
   "cell_type": "code",
   "execution_count": 26,
   "metadata": {
    "collapsed": false,
    "jupyter": {
     "outputs_hidden": false
    }
   },
   "outputs": [],
   "source": [
    "def optimal_weights(n_points, er, cov):\n",
    "    \"\"\"\n",
    "    -> list of weights to run the optimizer on to minimize the vol\n",
    "    \"\"\"\n",
    "    target_returns = np.linspace(er.min(),er.max(),n_points)\n",
    "    weights = [minimize_vol(target_return, er, cov) for target_return in target_returns]\n",
    "    return weights\n",
    "\n",
    "def plot_ef(n_points, er, cov, style=\".-\"):\n",
    "    \"\"\"\n",
    "    Plots the N-asset efficient frontier\n",
    "    \"\"\"\n",
    "    weights = optimal_weights(n_points, er, cov)\n",
    "    rets = [portfolio_return(w, er) for w in weights]\n",
    "    vol = [portfolio_vol(w, cov) for w in weights]\n",
    "    ef = pd.DataFrame({\n",
    "        \"Returns\": rets,\n",
    "        \"Volativity\": vol\n",
    "    })\n",
    "    return ef.plot.line(x=\"Volativity\", y=\"Returns\", style=style)"
   ]
  },
  {
   "cell_type": "code",
   "execution_count": 27,
   "metadata": {
    "collapsed": false,
    "jupyter": {
     "outputs_hidden": false
    }
   },
   "outputs": [
    {
     "data": {
      "text/plain": [
       "<matplotlib.axes._subplots.AxesSubplot at 0x24410f12148>"
      ]
     },
     "execution_count": 27,
     "metadata": {},
     "output_type": "execute_result"
    },
    {
     "data": {
      "image.PNG": "iVBORw0KGgoAAAANSUhEUgAAAXoAAAEGCAYAAABrQF4qAAAABHNCSVQICAgIfAhkiAAAAAlwSFlzAAALEgAACxIB0t1+/AAAADh0RVh0U29mdHdhcmUAbWF0cGxvdGxpYiB2ZXJzaW9uMy4yLjEsIGh0dHA6Ly9tYXRwbG90bGliLm9yZy+j8jraAAAgAElEQVR4nO3de3zcdZ3v8ddnJrdekjRNQpo2TdIrvVBaaCgFBRGsgKCV5WKVFUGwCyiurh5XV8+e3QWPl2XdlbNVrIAoFrsICpWLoCAi9kIb6P3etGnTtM29TdrcZuZ7/phJOk3TZtJc5pL38/HIo3P5zczn27Tv328+853vz5xziIhI4vJEuwARERlYCnoRkQSnoBcRSXAKehGRBKegFxFJcEnReuGcnBxXXFwcrZcXEYlLpaWlNc653N48JmpBX1xczLp166L18iIiccnMynv7GLVuREQSnIJeRCTBKehFRBJc1Hr03Wlvb6eiooKWlpZolxLT0tLSKCgoIDk5OdqliEgciKmgr6ioID09neLiYsws2uXEJOcctbW1VFRUMGHChGiXIyJxIKZaNy0tLWRnZyvkz8LMyM7O1rseEYlYTAU9oJCPgP6OROJXaXk9S/60m9Ly+kF7zZhq3YiIJKJAwHGg/gSvbD7Mw6/uIOAcKUkelt0zn7lFWQP++gr6LrxeL7NmzcLn8zFhwgSeeuopRo0adcbtn3/+eaZOncqMGTMGsUoRiUWBgONgQzO7qhrZeaSJnUca2Xmkkd1VTbS0B07Ztt0XYHVZrYI+GoYNG8b69esB+MxnPsOSJUv45je/ecbtn3/+eW688cZeBb3P5yMpSX/1IvHKOcehoy3sPNLIrrBA31XVxIk2f+d2eRmpTM1L51PzipiaNxIH/OuKLbT7AyQneZg/MXtQ6o37tCktr2d1WS3zJ2b3+57xsssuY+PGjQDs2bOHz3/+81RXVzN8+HB++tOfUldXx4oVK/jzn//MQw89xHPPPcfdd9/Nww8/TElJCTU1NZSUlLBv3z6efPJJXnrpJVpaWjh+/Dh33HEHK1as4MSJE+zZs4ebbrqJ73//+/j9fu6++27WrVuHmfHZz36WL3/5y/06LhE5s/BMubhwFFWNraEgb2LXkUZ2HGlk95EmGlt9nY/JGZnK1LyR3FYynql56UzNG8mU89LJHH76FOipeekDlllnElHQm9l1wA8BL/CYc+67Z9juEmA18Ann3LN9Kexff7eFrZXHzrpNY0s72w83EnDgMZg2Jp30tDPPLZ8xNoP/89GZEb2+3+/n9ddf5+677wZg8eLFPProo0yZMoU1a9Zw//3388Ybb/Cxj32MG2+8kVtuuaXH51y1ahUbN25k9OjRPPnkk6xfv5733nuP1NRUzj//fB544AGqqqo4ePAgmzdvBqChoSGiekWkb+qOt/G7DZU8+OJWfAGHGQxL9p5yhD56RApT80Zy08XjmJKXztTzRjI1L52sESkRv87coqxBC/gOPQa9mXmBJcACoAJYa2YrnHNbu9nue8CrA1Fod461+AiETnkbcMHrZwv6SDQ3NzNnzhz27dvH3LlzWbBgAU1NTaxcuZJbb721c7vW1tZeP/eCBQsYPXp05/VrrrmGzMxMAGbMmEF5eTkzZ86krKyMBx54gBtuuIEPf/jDfRqPiJyqqdUXPEI/HDw633mkkR2Hm6hpOvX/tHMw5byR/M3FBUzJCwZ6zsjUKFXdN5Ec0c8DdjvnygDMbDmwENjaZbsHgOeAS/qjsEiOvEvL67n9sdW0+4L9rh8uuqjPe8qOHv3Ro0e58cYbWbJkCXfeeSejRo3q7N2fTVJSEoFA8EOXrnPdR4wYccr11NST/2i8Xi8+n4+srCw2bNjAq6++ypIlS3jmmWd44okn+jQmkaGo1ednT9XxYJCHBXtFfXPnNsOSvUwdk87V03KZmpeOx+B7v9+BL9RD/+ePzhz0o++BEEnQjwMOhF2vAC4N38DMxgE3AVdzlqA3s8XAYoDCwsLe1nqauUVZLLtn/oD0uzIzM3nkkUdYuHAh9913HxMmTODXv/41t956K845Nm7cyOzZs0lPT6exsbHzccXFxZSWljJv3jyefbb33auamhpSUlK4+eabmTRpEnfeeWe/jUkkEXT9XM4fcJTXHu88Mu8I9r01x/GH3vIne41JuSO5uDCLT84rZGpeOufnpVOQNQyP59TvpcwenzXoPfSBFknQd/ftHNfl+n8B/+ic85/tyzzOuaXAUoCSkpKuz3FOBrLfddFFFzF79myWL1/OsmXLuO+++3jooYdob29n0aJFzJ49m0WLFvG5z32ORx55hGeffZavfvWr3HbbbTz11FNcffXVvX7NgwcPctddd3W+K/jOd77T38MSiUvOOf64tYrPP11Ku9/hMaMwexiVDS20+oL/X8ygaPRwpualc/0FY4KBPiad4uwRpCRF9v3QaPTQB5o5d/a8NbPLgH9xzl0buv4NAOfcd8K22cvJHUIOcAJY7Jx7/kzPW1JS4rqeeGTbtm1Mnz79HIYx9OjvShLZ8VYfO440suNwI9sPHWN7qO3ScKL9lO2Kc0awYPp5nYE++byRDE+J+8mEZ2Vmpc65kt48JpK/kbXAFDObABwEFgGfCt/AOde5upaZPQm8eLaQFxEB8Acc+2qPs/1QIzsOH2Pb4WC476870bnNiJRgH/36C/IZkeLlF6vK8QeCPfT/uHV2wh19D4Qeg9455zOzLxCcTeMFnnDObTGze0P3PzrANYpIHOraS69ubA0eoR8OHaEfDs546Wi7eAwm5Ixg1rhMbp1bwPlj0pmen8G4Uaf20a+flZ9wPfSBFtF7HOfcy8DLXW7rNuCdc3f2pSDnnBbt6kFP7TaRaGpp9/O7DZX802834fMH56OnpyVxtPnkF4xy01OZNiadT88vYlp+BtNCbZe0ZG+Pz5+IPfSBFlPNrLS0NGpra7VU8Vl0rEeflpYW7VJEqGpsYduhRrYdOtb5s6f65GwXCM5HLxw9nI9fVMD0McFeenaczkePVzEV9AUFBVRUVFBdXR3tUmJaxxmmRAZLuz9AWfVxth06xtawUK9pauvcZmxmGtPzM/jwjDGkJnn47z/t7pyP/i8fu0BH4VEUU0GfnJyssyaJDLKuvfSGE22hMD95pL7rSBNt/mAvPcXrYUreSK46/zym52cwIz+D6fnpjBp+6jIAl0/OUS89RsRU0IvI4AkEHK9sPsSX/md9Zy89a3gKtcdPHqXnjExlen46d72vmOn5GUzPz2Bi7giSvT3PSVcvPXYo6EWGgHZ/gN1VTWypPMaWyqNsORhswTSFrcDoXHBZ3cVXTuwM9dx09dITgYJeJME0t/nZdvgYWyqPsbXyKFsqg9MZ20LTGIcle5men85NF40jPc3LY2/vwx/qpT/48Vk6Ck9ACnqRONK1n370RDtbDh1la+UxNh8Mhvqe6qbOVV1HDU9m5tgM7ry8mJljM5g5NpMJOSPwhs1Lv2b6GPXSE5yCXiROvLH9CPc+FVznxQyyR6ZQ3Xiyn56fmcbMsRlcPyufmWMzuGBcJmMz03qcqqxeeuJT0IvEoKMn2tl4sIGNFUfZVHGUjRUNVB49uey1c5A9IpXPvm9i6Eg9Q3PT5YwU9CJR1tTqY/PBYKBvqGhg08GjlNeeXOtlQs4ISopHM3pEMk+vOdC5zsu3b1I/XSKjoBcZQF176s1tfrYeOtp5pL6hooGymuN0rGoxbtQwLizIZNElhVxYkMkFYzNPOe/oR2ePUz9dek1BLzJA3tlby98+/g7tvgAeMwqyhlHR0Ny5PEBueiqzCzJZOGccswoymTUus8dT1amfLudCQS/ST6qOtfDu/gbe21/Pe/sbeHd/Pb5QqPudw+Mx7r9qErPGZTJ7/CjyMrRekQwOBb3IOWj1+dlaeawz0N/b38DBhuC5SJO9xsyxmVw7M4/Xth7BH3CkJHl4WGunS5Qo6EW60bW3XtnQHBbq9WyuPNb5BaSxmWlcVJjFXe8r5qLCLGaOzehcbrfr84hEg4JepItVe2r4zBNrafcHMINRw1KoOxGcr56S5OHCcZl85rIiLi7M4qLCLMZknrkFo566xAIFvQx5tU2tlJbXU1pez7ryetbvb8AfmgbTsf7LF6+ZzEWFWUzPz4j4JNMisUJBL0OKc4491ccpLa9j3b5guJfVHAeCvfULxmVy4+x8Xt50iEDAkZzk4SHNV5c4p6CXhNbS7mfzwaOsK69n3b563t1fT11oGd5Rw5OZW5jFLSUFlBSN5sKCzM7e+h2XFau3LglDQS8J5c0dVbywvpKAc1TUN7Op4mjnCTMm5Izg6mnnUVKURUlxFhNzRp5y0ulw6q1LIlHQS1w7fLSFNXtrWbuvjj/vqOZAfXPnfVPzRnLn+4o7Q7unLyOJJCoFvcQN5xzltSd4Z28d7+yr4529deyvC64JMzI1iZz0VAxwgNdg4ZxxfP6Dk6Nas0gsUNBLzAoEHDurGoPBHvqpamwFYPSIFC4pzuIzlxczr3g00/PT2VBxlNsfW027L7jo1/yJ2VEegUhsUNBLzPD5Azz7bgW/33SYplYfu6qaONrcDgTXWr9sUjbzJozm0gmjmZQ78rR11ucWZbHsnvn6EFWkCwW9RI0/4Nh26Bir9tSyqqyWVXtqaW73A2DANdPP4/oL8pk3YTQFWcN6PIEG6ENUke4o6GXQdLRiVu4OBvuaslqOtQRPTj0xdwRT80ayseIoDvAYXFSYxc1zC6JbtEgCUNDLgAl+Oamp84h9dVld5xz2wtHDuf6CfC6fnM38idnkZaRRWl6vHrvIAFDQS796aWMlKzZUcrzVz44jjVSHPjwdm5nGVefncvmkHC6blM24UcNOe6x67CIDQ0EvfXKspZ1Ve2p5a2c1f9x6hCOhYAe4YkoOX1kwlcsmZVM4erh67CJRoqCXXvEHHBsrGvjLrhr+squad/c34A84RqR4GZOZRlVja+c89vkTs1k0rzDaJYsMeQp66VFlQzN/2VXNWztreHt3DUeb2zGDWeMyufcDE7lySi4XFWax6aDmsYvEIgW9nGbl7hqee7eClnY/2w83sqc6uLpjXkYqC2bkceXUXN4/OYfRI1JOeZx67CKxSUEvAFQ1tvDGtiqeLa1gXXl95+1zxo/iWzdM58qpuUw57/QvKXWlHrtI7FHQD1HOOXZVNfGHrUf4w9YjrD/QAEBG2sl/El6DBTPyuOeKidEqU0T6QURBb2bXAT8EvMBjzrnvdrl/IfAgEAB8wJecc2/3c63SRz5/gLX76vnD1iP8cduRzgXBZhdk8pUFU/nQjDxOtPq4/fE16rOLJJAeg97MvMASYAFQAaw1sxXOua1hm70OrHDOOTO7EHgGmDYQBUvv/GVXNb9eV0HDiTY2VBzlaHM7KUke3jcpm7/7wEQ+ND2PvIxTz3mqPrtIYonkiH4esNs5VwZgZsuBhUBn0DvnmsK2H0FwpViJklafnz9tr+bnK/eyqqyu8/arpuayaN54rpiSy4jUM//q1WcXSSyRBP044EDY9Qrg0q4bmdlNwHeA84AbunsiM1sMLAYoLNT86v4UCDjW7K3jhfUHeXnTIY61+BgeOi0eBPvtl0wYzXUX5EexShGJhkiCvrtpFqcdsTvnfgv81syuJNiv/1A32ywFlgKUlJToqL+PnHNsPXSMF9ZXsmJ9JYePtTA8xcu1M8ewcM5Yhqd4ueOJd9RvFxniIgn6CmB82PUCoPJMGzvn3jKzSWaW45yr6WuBcqrS8npe3XKYppZ23tlXz+6qJpI8xgem5vJPN0xnwfQ8hqWcPJJXv11EIgn6tcAUM5sAHAQWAZ8K38DMJgN7Qh/GXgykALX9XexQ5pzjZ3/dy0MvbSMQei80bUw6D378Am6YlX/al5c6qN8uIj0GvXPOZ2ZfAF4lOL3yCefcFjO7N3T/o8DNwB1m1g40A59wzqk10w9a2v08/95BnvjrXnYeOfmZt8fgo7PH8un5RVGsTkTiQUTz6J1zLwMvd7nt0bDL3wO+17+lDW1Vx1p4anU5y9bsp+54G9PGpPP5D07i8bf3qucuIr2ib8bGkNLyel5Yf5Dy2uOs3FOLL+C4Ztp5fPb9E7hsYjZmxtXT8tRzF5FeUdDHiKfXlPOt5zd39t+vv2AMX7tuGhNyRpyynXruItJbCvooW7uvjh/+cRdv7z45QclrcMG4zNNCXkTkXCjoo2RNWS0/fH0XK/fUkjMyhTsuK+KZtQdo96v/LiL9S0E/iErL63lm3QE2H2xgS2UjOSNT+dYN07n90iKGpXhZOGec+u8i0u8U9IOkaw/+rvcV87Vrp53y5Sb130VkICjoB9iWyqP8x2s7eWN7VedtXoOckamnhLyIyEBR0A+QPdVN/OAPO3lp4yEy0pL41KWF/Ka0Qj14ERl0Cvp+VFpez2tbDrPrSCNv7qwmLdnLA1dP5p4rJpI5LJmbLy5QD15EBp2Cvp+8uaOKu3++Dn+oCf/RC/P5l4/NJHtkauc26sGLSDQo6Puopd3Pkyv38YM/7OwMeY/BtPyMU0JeRCRaFPTnKBBwvLDhIA+/upODDc3MLcpi88Gj+NSDF5EYo6DvpdLyep5Zu5+1++ooqznBBeMy+PdbLuTyyTmUlterBy8iMUdB3wsvbazkgV+9R8AFT7v199dM4e+vmYLHEzwJl3rwIhKLFPQRaG7z86M3d/OjN/d0fuHJY5CS5OkMeRGRWKWgPwvnHK9sPsy3X9rGwYZmrpySw5q9derDi0hcUdB3o7S8npc2VbJ2bx2bDh5j2ph0/mfxfC6dmK0+vIjEHQV9F6v21PDpx9/BF+rR3PP+CXz9+mkkeT2A+vAiEn880S4glqzdV8f9y97tDHmvQdaIlM6QFxGJRzqiB5pafXz/99v5xapyctNTSPF68AfUhxeRxDCkg760vJ5fvbOfN3dUUXu8jTsvL+Z/XXs+2w83qg8vIgljyAb9yt3BXrzfOQz49k0X8KlLiwD14UUksQzJ5vP2w8f4wq/ew+9Ork1Tf6I9ylWJiAyMIRX0zjl+ubqchf/9VwLOkeL14DXUixeRhDZkWjdv7azmoZe2svNIE1dOzeU/bp3N/roT6sWLSMIbEkH/m3cr+MozG3BAksf44tWTyU1PJTc9VQEvIgkv4Vs3b++q4evPbSK0RA3OOdbsrYtqTSIigymhg/6ZtQe482fvkJ+ZRmqS+vEiMjQlZOumdF8dD7+2g1VldVwxJYcf3X4xO480qR8vIkNSwgX9un11fOInq/E7h9eMB66eTHpasubGi8iQlXCtm+++sr1zfjw41u6rj2o9IiLRllBH9Evf2sO68nq8HgPn1I8XESFBgr60vJ7H3y7j5U2HueHCfO66vJg1e+vUjxcRIcKgN7PrgB8CXuAx59x3u9x/O/CPoatNwH3OuQ39WeiZlJbX88mlq2nzB/AYfHp+ISXFoykpHj0YLy8iEvN67NGbmRdYAlwPzAA+aWYzumy2F/iAc+5C4EFgaX8XeiYr99TQ5g8EawVKyxsG66VFROJCJB/GzgN2O+fKnHNtwHJgYfgGzrmVzrmOTz1XAwX9W+aZNRxvA4ILk6knLyJyukhaN+OAA2HXK4BLz7L93cAr3d1hZouBxQCFhYURlnhmf95RxS/X7GdiznBunlvA/Ik56smLiHQRyRG9dXOb6+Y2zOyDBIP+H7u73zm31DlX4pwryc3NjbzKbpSW1/PZn6+j1RfgYEOLQl5E5AwiCfoKYHzY9QKgsutGZnYh8Biw0DlX2z/lndnKPTX4Q+d29fkDrC4b8JcUEYlLkQT9WmCKmU0wsxRgEbAifAMzKwR+A3zaObez/8s83ciUYNdJvXkRkbPrsUfvnPOZ2ReAVwlOr3zCObfFzO4N3f8o8M9ANvAjMwPwOedKBq5sWLO3Dq/BLXMLuO2SQrVtRETOIKJ59M65l4GXu9z2aNjle4B7+re0M1u3r47fbzkMwAsbKrntkr5/sCsikqjicq2bjpAHaPepPy8icjZxGfQZacmA+vMiIpGIy7Vu9lQ34QFuKxnPrSXj1Z8XETmLuDuiLy2v53cbKgkAz68/GO1yRERiXtwF/eqyWkLT59WfFxGJQNwF/fwJwVUpDfXnRUQiEXc9+gm5I0N/juCe909Uf15EpAdxd0T/5o4qAPZWH+ffXtxCablOFSgicjZxF/Tv7K0DgquqqUcvItKzuAv6qXnB1o3m0IuIRCbuevS+0JSbD8/I43NXTlKPXkSkB3F1RF9aXs+/v7oDgDd2VEe5GhGR+BBXQb+6rBafX2vQi4j0RlwF/fyJ2SR7gye8SvKqPy8iEom4Cvq5RVn87xtnAHDFZIW8iEgk4iroAVKTgiW/sb2a2x9brXn0IiI9iLug33GkCdA8ehGRSMVd0F8xJQfQWjciIpGKu3n0V07JxYCCrGHcd9VkzaMXEelB3B3Rv3egAQccqG/WWjciIhGIu6AP78mrRy8i0rO4C/r5E7PxBKfSq0cvIhKBuAv6uUVZzC3MIslj/PONM9WjFxHpQdwFfWl5Pe8daMAXcPzb79SjFxHpSdwF/eqyWvyhFSzbtN6NiEiP4i7o50/MJjn07Vivx9SjFxHpQdwF/dyiLH5+1yUAnD8mPcrViIjEvrgLeoCUJC8GbD54TOvdiIj0IC6DfnVZLS50WXPpRUTOLi6Dfv7EbJI8WpdeRCQScRn0c4uy+O7Ns4KXCzWPXkTkbOIy6AGKskcAsLKsVn16EZGziNugf2dvXedl9elFRM4soqA3s+vMbIeZ7Tazr3dz/zQzW2VmrWb21f4v83Q6f6yISGR6DHoz8wJLgOuBGcAnzWxGl83qgC8CD/d7hWcwtyiLR/92LgBT80YO1suKiMSdSI7o5wG7nXNlzrk2YDmwMHwD51yVc24t0D4ANZ7RqOEpmMEmzacXETmjSIJ+HHAg7HpF6LZeM7PFZrbOzNZVV1efy1OcYnVZLR0T6tvUpxcR6VYkQW/d3Oa6ua1HzrmlzrkS51xJbm7uuTzFKeZPzCYltO6Nmda9ERHpTiRBXwGMD7teAFQOTDm9M7coi6c/N59JuSMYluxh5Z4atW9ERLqIJOjXAlPMbIKZpQCLgBUDW1bk5hZlcfPFBTS1+vnBazvVqxcR6aLHoHfO+YAvAK8C24BnnHNbzOxeM7sXwMzGmFkF8A/At8yswswyBrLwcL7Q+vQOzakXEekqKZKNnHMvAy93ue3RsMuHCbZ0ouJ9k3N45PVd+AJOc+pFRLqI22/GhptblMVPPj0Xrxlzxo9idVmt2jciIiERHdHHg2um5/GBqTm8saOatfvqSEnysOye+Tp5uIgMeQlxRN+hMLTQWcCpVy8i0iGhgv6js8cSWqZevXoRkZCECvq5RVn84LY5AFw6YbR69SIiJFCPvsPHLxrHb96t4K1dNby9u0a9ehEZ8hLqiL7D+WPSAfXqRUQgQYP+ugvy8Yaa9V716kVkiEvIoJ9blMWTd13CiBQvBaOGMWf8qGiXJCISNQkZ9ABXTMnl//7NLMpqjnPvL0v1oayIDFkJG/QABaOG4TH4w9YjfOqnWuxMRIamhA761WEnEG/1BVi1pyaK1YiIREdCB33HiUk6zpzS0DyoZzoUEYkJCTePPtzcoiyW3TOf1WU1/GFrFb9YuQ8cXD8rX/PqRWTISOgjegiG/ec/OIUvfHAybX7HY2/v5Xb160VkCEn4oO+w40hjZwunVV+iEpEhZMgE/fyJ2aQmB/v1Dmjz+aNdkojIoEjoHn24jn79yj01vLzpED9+s4xjLT5uvHCs+vUiktCGzBE9BMP+gaun8JUF59PmD/Czv+7T/HoRSXhDKug77DjS2LlufasvwF93a369iCSuIRn0HfPrO8J+w4EGnHPRLUpEZIAMyaDv6Nd/5cPnc8vccby+vYq7frZWLRwRSUhDMuihY379ZBZdUojH4M2d1SxaukphLyIJZ8gGfYc1YevhtPsdy9fuj2I1IiL9b8gHfUe/3mtgwIr1lby3X0f1IpI4LFofQpaUlLh169ZF5bW7Ki2vZ3VZLeePSefffreVuuOt3HbJeG6YpTn2IhJbzKzUOVfSm8cMmS9Mnc3coqzOQG9rD3D/0+/yxNv7WLZ6P09/TicWF5H4NuRbN13trT1+yhz7328+FN2CRET6SEHfRdc59r999yD7a09EtygRkT5Qj74bHT37vIxUHnppG0ke428uLuDamWPUxhGRqFKPvp+E9+ydg//17EaWvlXGz1fuU89eROKOWjc9qGpsPaVn/+KGyugWJCLSSwr6HnTt2f+69AAbKxqiW5SISC9EFPRmdp2Z7TCz3Wb29W7uNzN7JHT/RjO7uP9LjY7wdXF+9KmLGTU8hU/8ZDXf+M0mLZcgInGhxx69mXmBJcACoAJYa2YrnHNbwza7HpgS+rkU+HHoz4QQ3rNP8hp/91Qpv3pnP8+WHmD54svUsxeRmBbJEf08YLdzrsw51wYsBxZ22WYh8AsXtBoYZWb5/VxrTNhV1YSF2jjtfsdP3yqLbkEiIj2IJOjHAQfCrleEbuvtNpjZYjNbZ2brqqure1trTAhfG8dj8Psth/nvN3ZpPXsRiVmRTK+0bm7rmmqRbINzbimwFILz6CN47ZjT0bNfXVZLSVEWy9ce4OHXdrKl8hgzx2Zw2aQctXJEJKZEEvQVwPiw6wVA1zmGkWyTMMJ79pcUjybgHC+sr+SVzYdJS9rNMs21F5EYEknrZi0wxcwmmFkKsAhY0WWbFcAdodk384GjzrkhsUiMx2NMzUvvfEvT4gvw+rYjUa1JRCRcj0HvnPMBXwBeBbYBzzjntpjZvWZ2b2izl4EyYDfwU+D+Aao3Js2fmE1q8sm59s+sPcD2w8eiW5SISIjWuuknHevjnJeeysOv7eB4q58vfWgKrb4A8ydmq5UjIv3iXNa6UdAPgENHm1m0dDXltScwIDXZw7J71LcXkb47l6DXEggDID9zGB+fE5xd6oDW9gB/3V0T3aJEZMhS0A+QK6fmkpbswQiG/SubDlHT1BrtskRkCFLrZgB19O3b/QF+/OYe0tOSuGFWPh+bM05tHBE5J+rRx7Bn1u7na3Ylvj8AAAlgSURBVM9tAiDZa1ojR0TOiXr0May6qa1z+mW73/Hgi1to9fmjW5SIDAkK+kESvkaO12OsP3CUWx9dxYE6nY9WRAaWWjeDqKNnP39iNrVNrXzl1xvwmHH/VZPwBZzm24tIj3TO2BgXvkYOwEtjMvjMz9bwnVe2B+fbJ3m0To6I9Du1bqKoMHv4KfPtW3wBniutiG5RIpJwFPRR9v4pwfn2Hguu9fz0O/t58MWtNLfpg1oR6R9q3URZ+Pr2c8aP4pXNh3j87b28sb2Ke94/gYbmdvXuRaRP9GFsDFq5u4YvLn+PmqY2AMxgWl46OempDE/xMizZy7CUpNCfHoanJJGW7A277/Q/w+9L8Xow6+5cMSIS6/RhbIK4fHIOt19axCOv78IBzsHxVj8pyT6qjrXS3O7nRJuflnY/J9p8BHq5r/YYJ3cWKR6GJyeRluJlWHJwpxG+kxie4iUtbGdxph1K8DlOPt7r0Y5EJFYo6GPUlVNz+clbe2j3BUhO8vCfi+Z0275xztHmD9DSFuBEu4/mtvCdgJ/m9rDLoesdf4bvLJrbA7S0+alqbAne37Ftu5+W9kCv609J8gR3AslddhBn2Fl03aGEv2s55b7Qn6lJelciEikFfYwK792frUdvZqQmeUlN8pJJ8oDUEgg4Wnzd7yzCdxrN7X5a2k5ebm7zhXYWgc7LTa0+qhtbT9kRNbf58fXybYl1vCvpZmfR/Q7l5E5jWLKXtLCdRuc7k47nCN2X5D05VyH8OxD6vETijYI+hnWddx8tHo8xPCWJ4SkD98+l3R84ueNoO3Un0PHOorkt9I4ltENpbu9muzY/tcfbaK4/+Y6l4/G9/Tgq2WudbaiGE+04IE3nFpA4pKCXmJDs9ZDs9ZCRNjDvSpxztPoCp77baAuEdha+095hhL9Tebe8nvoTRwFo9wVYXVaroJe4oqCXIcHMSEsOtnN6q7S8ntsfW935ecn8idkDUKHIwFHQi/Qg0s9LRGKVgl4kArHyeYnIudASCCIiCU5BLyKS4BT0IiIJTkEvIpLgFPQiIglOQS8ikuCitkyxmVUD5VF58cjkADXRLmIQaJyJReNMLN2Ns8g5l9ubJ4la0Mc6M1vX2zWf45HGmVg0zsTSX+NU60ZEJMEp6EVEEpyC/syWRruAQaJxJhaNM7H0yzjVoxcRSXA6ohcRSXAKehGRBDckg97MrjOzHWa228y+3s39ZmaPhO7faGYXd7nfa2bvmdmLg1d17/VlnGY2ysyeNbPtZrbNzC4b3Ooj08cxftnMtpjZZjP7lZmlDW71kYtgnNPMbJWZtZrZV3vz2FhyruM0s/Fm9qfQv9UtZvb3g1t57/Tl9xm6v3cZ5JwbUj+AF9gDTARSgA3AjC7bfAR4BTBgPrCmy/3/ADwNvBjt8QzUOIGfA/eELqcAo6I9pv4cIzAO2AsMC11/Brgz2mPqwzjPAy4Bvg18tTePjZWfPo4zH7g4dDkd2JmI4wy7v1cZNBSP6OcBu51zZc65NmA5sLDLNguBX7ig1cAoM8sHMLMC4AbgscEs+hyc8zjNLAO4EngcwDnX5pxrGMziI9Sn3yXBE+8MM7MkYDhQOViF91KP43TOVTnn1gLtvX1sDDnncTrnDjnn3g1dbgS2EdyZx6K+/D7PKYOGYtCPAw6EXa/g9H8QZ9vmv4CvAYGBKrCf9GWcE4Fq4Geht4ePmdmIgSz2HJ3zGJ1zB4GHgf3AIeCoc+61Aay1LyIZ50A8drD1S61mVgxcBKzpl6r6X1/H2esMGopBb93c1nWOabfbmNmNQJVzrrT/y+p35zxOgke6FwM/ds5dBBwHYrG325ffZRbBo6gJwFhghJn9bT/X118iGedAPHaw9blWMxsJPAd8yTl3rF+q6n/nPM5zzaChGPQVwPiw6wWc/pb9TNu8D/iYme0j+HbrajP75cCV2id9GWcFUOGc6zgiepZg8MeavozxQ8Be51y1c64d+A1w+QDW2heRjHMgHjvY+lSrmSUTDPllzrnf9HNt/akv4zynDBqKQb8WmGJmE8wsBVgErOiyzQrgjtCMjfkE39Yfcs59wzlX4JwrDj3uDedcrB4F9mWch4EDZnZ+aLtrgK2DVnnkznmMBFs2881suJkZwTFuG8zieyGScQ7EYwfbOdca+h0+Dmxzzv1gAGvsD+c8znPOoGh/Ah2NH4IzMXYS/OT7m6Hb7gXuDV02YEno/k1ASTfPcRUxPOumr+ME5gDrgI3A80BWtMczAGP8V2A7sBl4CkiN9nj6MM4xBI8UjwENocsZZ3psrP6c6ziB9xNsf2wE1od+PhLt8QzE7zPsOSLOIC2BICKS4IZi60ZEZEhR0IuIJDgFvYhIglPQi4gkOAW9iEiCU9BLXDKzN83s2i63fcnMfnSG7feZWU4Pz/lPXa6v7GH7EjN7JHT5KjOL1S9cyRCnoJd49SuCXxgJtyh0+7k6Jeidc2cNbufcOufcF0NXryJ2v1krQ5yCXuLVs8CNZpYKnQtZjQUKzGxTaI3573X3QDN73sxKQ+uWLw7d9l2CK1muN7NloduaQn/+j5l9JOzxT5rZzaGj+BdDr30v8OXQ468ws72hr+RjZhmhdxTJA/NXIXJ2CnqJS865WuAd4LrQTYuAV4HvAVcT/GbvJWb28W4e/lnn3FygBPiimWU7574ONDvn5jjnbu+y/XLgEwChr6xfA7wcVss+4FHgP0OP/wvwJsGlZDtqe84F19QRGXQKeoln4e2bRQS/Jv6mCy5U5gOWEVxXv6svmtkGYDXBxaWm9PA6rxBcPCoVuB54yznX3MNjHgPuCl2+C/hZT4MRGSgKeolnzwPXWPD0gMMInqnnrMzsKoIrV17mnJsNvAec9RSCzrkWgkfo1xI8sl/e0+s45/4KFJvZBwCvc25zT48RGSgKeolbzrkmggH8BMGj+zXAB8wsx8y8wCeBP3d5WCZQ75w7YWbTCJ5esEP7WfroywkemV9BsEXUVSPBU9iF+0WoLh3NS1Qp6CXe/QqYDSx3weWHvwH8ieDR/bvOuRe6bP97IMnMNgIPEmzfdFgKbOz4MLaL1wi2gf7ogqd/6+p3wE0dH8aGblsGZNG3mUAifabVK0UGiJndAix0zn062rXI0JYU7QJEEpGZ/T+CH9x+pKdtRQaajuhFRBKcevQiIglOQS8ikuAU9CIiCU5BLyKS4BT0IiIJ7v8D1HuP03e3XwsAAAAASUVORK5CYII=\n",
      "text/plain": [
       "<Figure size 432x288 with 1 Axes>"
      ]
     },
     "metadata": {
      "needs_background": "light"
     },
     "output_type": "display_data"
    }
   ],
   "source": [
    "l=[\"Smoke\", \"Fin\", \"Games\", \"Coal\"]\n",
    "erk.plot_ef(50, er, cov)"
   ]
  },
  {
   "cell_type": "markdown",
   "metadata": {
    "jupyter": {
     "outputs_hidden": false
    }
   },
   "source": [
    "# Max Sharpe Ratio Portfolio"
   ]
  },
  {
   "cell_type": "markdown",
   "metadata": {},
   "source": [
    "<img src=\"images\\Max Sharpe Ratio Portfolio.PNG\">"
   ]
  },
  {
   "cell_type": "markdown",
   "metadata": {},
   "source": [
    "Introducing risk free asset give rise to very different efficient frontier. Any straight line from the risk free rate asset and the riskful portfolio can be a new portfolio.\n",
    "Therefore we would like to find the portfolio that gives the highest return per unit risk.\n",
    "### $R_p = (1-w)R_{rf} + w R$\n",
    "### $\\sigma_p = w \\sigma$\n",
    "### we get:\n",
    "### $Max \\frac{dR_p}{d\\sigma_p} = Max \\frac{R -R_{rf}}{\\sigma}$\n",
    "Therefore maximising the gradient of the straight line intersecting risk-free rate and the risk-ful portfolio gives the Max Sharpe Ratio Portfolio\n",
    "It can also be shown that a maximum sharpe ratio portfolio contains no specific risks, only systematic risks"
   ]
  },
  {
   "cell_type": "code",
   "execution_count": 119,
   "metadata": {
    "collapsed": false,
    "jupyter": {
     "outputs_hidden": false
    }
   },
   "outputs": [
    {
     "name": "stdout",
     "output_type": "stream",
     "text": [
      "The autoreload extension is already loaded. To reload it, use:\n",
      "  %reload_ext autoreload\n"
     ]
    }
   ],
   "source": [
    "import pandas as pd\n",
    "import numpy as np\n",
    "import scipy.stats\n",
    "import matplotlib.pyplot as plt\n",
    "import edhec_risk_kit as erk \n",
    "%load_ext autoreload\n",
    "%autoreload 2"
   ]
  },
  {
   "cell_type": "code",
   "execution_count": 112,
   "metadata": {},
   "outputs": [],
   "source": [
    "def portfolio_return(weights, returns):\n",
    "    \"\"\"\n",
    "    Weights -> Returns\n",
    "    \"\"\"\n",
    "    return weights.T @ returns\n",
    "\n",
    "def portfolio_vol(weights, cov):\n",
    "    \"\"\"\n",
    "    Weifghts -> Vol\n",
    "    \"\"\"\n",
    "    return (weights.T @ cov @weights) ** 0.5"
   ]
  },
  {
   "cell_type": "code",
   "execution_count": 113,
   "metadata": {
    "collapsed": false,
    "jupyter": {
     "outputs_hidden": false
    }
   },
   "outputs": [],
   "source": [
    "from scipy.optimize import minimize\n",
    "def maximize_sharpe_ratio(riskfree_rate, er, cov):\n",
    "    \"\"\"\n",
    "    target_ret -> W\n",
    "    \"\"\"\n",
    "    n = er.shape[0]\n",
    "    init_guess = np.repeat(1/n, n)\n",
    "    bounds = ((0.0, 1),)*n\n",
    "\n",
    "    weights_sum_to_1 = {\n",
    "            \"type\": \"eq\",\n",
    "            \"fun\": lambda weights: np.sum(weights) - 1\n",
    "    }\n",
    "    \n",
    "    def neg_sharpe_ratio(weights, er, cov):\n",
    "        return -(portfolio_return(weights, er)-riskfree_rate)/portfolio_vol(weights, cov)\n",
    "    \n",
    "    results = minimize(neg_sharpe_ratio, init_guess,\n",
    "                      args=(er, cov), method=\"SLSQP\",\n",
    "                       options={\"disp\": False},\n",
    "                       constraints=(weights_sum_to_1),\n",
    "                       bounds=bounds\n",
    "                      )\n",
    "    return results.x"
   ]
  },
  {
   "cell_type": "code",
   "execution_count": 28,
   "metadata": {
    "collapsed": false,
    "jupyter": {
     "outputs_hidden": false
    }
   },
   "outputs": [
    {
     "data": {
      "text/plain": [
       "<matplotlib.axes._subplots.AxesSubplot at 0x24410f6ba48>"
      ]
     },
     "execution_count": 28,
     "metadata": {},
     "output_type": "execute_result"
    },
    {
     "data": {
      "image.PNG": "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\n",
      "text/plain": [
       "<Figure size 432x288 with 1 Axes>"
      ]
     },
     "metadata": {
      "needs_background": "light"
     },
     "output_type": "display_data"
    }
   ],
   "source": [
    "ind = erk.get_ind_returns(weighting='vw', n_inds=30)\n",
    "er = erk.ann_return(ind[\"1996\":\"2000\"])\n",
    "cov = ind[\"1996\":\"2000\"].cov()\n",
    "\n",
    "erk.plot_ef(n_points=20, er=er, cov=cov, show_cml=True, riskfree_rate=0.1)"
   ]
  },
  {
   "cell_type": "markdown",
   "metadata": {},
   "source": [
    "# Lack of robustness of Markowitz analysis, and the GMV\n",
    "- Estimation error is the key challenge in portfolio estimization. If you feed an optimizer data with estimation error, this error will be amplified by the optimizer. \n",
    "- The assets that get the most allocation will typically the ones that have the highest estimation errors. \n",
    "- Expected return estimates is much harder to obtain accurately compared to the covariance matrix. The sample-based expected return parameter estimate are very noisy. We are very bad at guessing expected returns! \n",
    "- Thus in practice, we often focus on the only portfolio on the efficient frontier in which no return parameter is needed. \n",
    "- One example is the Global Minimum Variance (GMV) portfolio. Which is the portfolio that minimize variance without an expected return target."
   ]
  },
  {
   "cell_type": "code",
   "execution_count": 130,
   "metadata": {
    "collapsed": false,
    "jupyter": {
     "outputs_hidden": false
    }
   },
   "outputs": [
    {
     "name": "stdout",
     "output_type": "stream",
     "text": [
      "The autoreload extension is already loaded. To reload it, use:\n",
      "  %reload_ext autoreload\n"
     ]
    }
   ],
   "source": [
    "%load_ext autoreload\n",
    "%autoreload 2\n",
    "%matplotlib inline\n",
    "import edhec_risk_kit as erk\n",
    "import numpy as np\n",
    "import pandas as pd\n",
    "\n",
    "ind = erk.get_ind_returns(weighting='vw', n_inds=30)\n",
    "er = erk.ann_return(ind[\"1996\":\"2000\"])\n",
    "cov = ind[\"1996\":\"2000\"].cov()"
   ]
  },
  {
   "cell_type": "code",
   "execution_count": 122,
   "metadata": {
    "collapsed": false,
    "jupyter": {
     "outputs_hidden": false
    }
   },
   "outputs": [
    {
     "data": {
      "text/plain": [
       "array([0.75040362, 0.24959638])"
      ]
     },
     "execution_count": 122,
     "metadata": {},
     "output_type": "execute_result"
    }
   ],
   "source": [
    "l = [\"Food\", \"Steel\"]\n",
    "erk.maximize_sharpe_ratio(0.1, er[l], cov.loc[l,l])"
   ]
  },
  {
   "cell_type": "markdown",
   "metadata": {},
   "source": [
    "Assume returns that slightly deviates from historical data:\n",
    "\n",
    "- Even deviation of 0.02 can give vastly different portfolio!\n",
    "- This is whats called \"Error maximizing nature of Markowitz\""
   ]
  },
  {
   "cell_type": "code",
   "execution_count": 123,
   "metadata": {
    "collapsed": false,
    "jupyter": {
     "outputs_hidden": false
    }
   },
   "outputs": [
    {
     "data": {
      "text/plain": [
       "array([0.57930354, 0.42069646])"
      ]
     },
     "execution_count": 123,
     "metadata": {},
     "output_type": "execute_result"
    }
   ],
   "source": [
    "erk.maximize_sharpe_ratio(0.1, np.array([0.11, 0.12]), cov.loc[l,l])"
   ]
  },
  {
   "cell_type": "markdown",
   "metadata": {},
   "source": [
    "This is a very different portfolio!\n",
    "- Before: 0.75 in food, 0.25 in steel\n",
    "- Now: 0.57 in food, 0.42 in steel!"
   ]
  },
  {
   "cell_type": "code",
   "execution_count": 124,
   "metadata": {
    "collapsed": false,
    "jupyter": {
     "outputs_hidden": false
    }
   },
   "outputs": [
    {
     "data": {
      "text/plain": [
       "array([0., 1.])"
      ]
     },
     "execution_count": 124,
     "metadata": {},
     "output_type": "execute_result"
    }
   ],
   "source": [
    "erk.maximize_sharpe_ratio(0.1, np.array([0.10, 0.13]), cov.loc[l,l])"
   ]
  },
  {
   "cell_type": "markdown",
   "metadata": {},
   "source": [
    "100% in steel!!!"
   ]
  },
  {
   "cell_type": "code",
   "execution_count": 125,
   "metadata": {
    "collapsed": false,
    "jupyter": {
     "outputs_hidden": false
    }
   },
   "outputs": [
    {
     "data": {
      "text/plain": [
       "array([1., 0.])"
      ]
     },
     "execution_count": 125,
     "metadata": {},
     "output_type": "execute_result"
    }
   ],
   "source": [
    "erk.maximize_sharpe_ratio(0.1, np.array([0.13, 0.10]), cov.loc[l,l])"
   ]
  },
  {
   "cell_type": "markdown",
   "metadata": {},
   "source": [
    "100% in food!!"
   ]
  },
  {
   "cell_type": "markdown",
   "metadata": {},
   "source": [
    "# MSR, GMV, EW portfolios on the Efficient Frontier"
   ]
  },
  {
   "cell_type": "code",
   "execution_count": 132,
   "metadata": {
    "collapsed": false,
    "jupyter": {
     "outputs_hidden": false
    }
   },
   "outputs": [],
   "source": [
    "def plot_ef(n_points, er, cov, show_cml=False, style=\".-\", riskfree_rate=0, show_ew=False, show_GMV=False):\n",
    "    \"\"\"\n",
    "    Plots the N-asset efficient frontier\n",
    "    \"\"\"\n",
    "    weights = optimal_weights(n_points, er, cov)\n",
    "    rets = [portfolio_return(w, er) for w in weights]\n",
    "    vol = [portfolio_vol(w, cov) for w in weights]\n",
    "    ef = pd.DataFrame({\n",
    "        \"Returns\": rets,\n",
    "        \"Volativity\": vol\n",
    "    })\n",
    "    \n",
    "    ax = ef.plot.line(x=\"Volativity\", y=\"Returns\", style=style)\n",
    "    \n",
    "    if show_cml:\n",
    "        ax.set_xlim(left=0)\n",
    "        weight_msr = maximize_sharpe_ratio(riskfree_rate, er, cov)\n",
    "        r_msr = portfolio_return(weight_msr, er)\n",
    "        vol_msr = portfolio_vol(weight_msr, cov)\n",
    "        # Add Capital Market Line\n",
    "        cml_x = [0, vol_msr]\n",
    "        cml_y = [riskfree_rate, r_msr]\n",
    "        ax.plot(cml_x, cml_y, color=\"green\", marker=\"o\", linestyle=\"dashed\", markersize=12, linewidth=2)\n",
    "        \n",
    "    if show_ew:\n",
    "        n = er.shape[0]\n",
    "        w_ew = np.repeat(1/n, n)\n",
    "        r_ew = portfolio_return(w_ew, er)\n",
    "        vol_ew = portfolio_vol(w_ew, cov)\n",
    "        ax.plot([vol_ew], [r_ew], color=\"goldenrod\", marker=\"o\", markersize=12)\n",
    "\n",
    "        \n",
    "    if show_GMV:\n",
    "        \n",
    "        w_GMV = GMV(cov)\n",
    "        r_GMV = portfolio_return(w_GMV, er)\n",
    "        vol_GMB = portfolio_vol(w_GMV, cov)\n",
    "        ax.plot([vol_GMB],[r_GMV], color=\"red\", marker=\"o\", markersize=12)\n",
    "             \n",
    "    return ax"
   ]
  },
  {
   "cell_type": "code",
   "execution_count": 29,
   "metadata": {
    "collapsed": false,
    "jupyter": {
     "outputs_hidden": false
    }
   },
   "outputs": [
    {
     "data": {
      "text/plain": [
       "<matplotlib.axes._subplots.AxesSubplot at 0x24410e12208>"
      ]
     },
     "execution_count": 29,
     "metadata": {},
     "output_type": "execute_result"
    },
    {
     "data": {
      "image.PNG": "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\n",
      "text/plain": [
       "<Figure size 432x288 with 1 Axes>"
      ]
     },
     "metadata": {
      "needs_background": "light"
     },
     "output_type": "display_data"
    }
   ],
   "source": [
    "erk.plot_ef(n_points=20, er=er, cov=cov, show_cml=True, riskfree_rate=0.1, show_ew=True, show_GMV=True)"
   ]
  },
  {
   "cell_type": "code",
   "execution_count": null,
   "metadata": {},
   "outputs": [],
   "source": []
  }
 ],
 "metadata": {
  "kernelspec": {
   "display_name": "Python 3",
   "language": "python",
   "name": "python3"
  },
  "language_info": {
   "codemirror_mode": {
    "name": "ipython",
    "version": 3
   },
   "file_extension": ".py",
   "mimetype": "text/x-python",
   "name": "python",
   "nbconvert_exporter": "python",
   "pygments_lexer": "ipython3",
   "version": "3.7.6"
  },
  "toc-autonumbering": true,
  "toc-showcode": false,
  "toc-showmarkdowntxt": false,
  "toc-showtags": false
 },
 "nbformat": 4,
 "nbformat_minor": 4
}
